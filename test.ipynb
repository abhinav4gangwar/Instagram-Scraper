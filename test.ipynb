{
 "cells": [
  {
   "cell_type": "code",
   "execution_count": 7,
   "metadata": {},
   "outputs": [],
   "source": [
    "\n",
    "from instagramy import InstagramUser\n",
    "\n",
    "user = InstagramUser(\"akshaykumar\")"
   ]
  },
  {
   "cell_type": "code",
   "execution_count": 14,
   "metadata": {},
   "outputs": [
    {
     "name": "stdout",
     "output_type": "stream",
     "text": [
      "followers 63625132\n",
      "following 5\n",
      "verified True\n",
      "username akshaykumar\n"
     ]
    }
   ],
   "source": [
    "print (\"followers\",user.user_data[\"edge_followed_by\"]['count'])\n",
    "print (\"following\",user.user_data[\"edge_follow\"]['count'])\n",
    "print (\"verified\",user.user_data[\"is_verified\"])\n",
    "print (\"username\",user.user_data[\"username\"])"
   ]
  },
  {
   "cell_type": "code",
   "execution_count": 32,
   "metadata": {},
   "outputs": [
    {
     "name": "stdout",
     "output_type": "stream",
     "text": [
      "1949\n",
      "views : 1157115\n",
      "caption : The mission is challenging. The action is endless…\n",
      "Transform into Aryan Kulshreshtha, my avatar in #RamSetu:TheRun and be a part of the world of Ram Setu. \n",
      "\n",
      "Download the official game of #RamSetu! Link in bio\n",
      "\n",
      "@jacquelinef143 @nushrrattbharuccha @actorsatyadev #AbhishekSharma @ivikramix @primevideoin #CapeOfGoodFilms @lyca_productions @abundantiaent #DrChandraprakashDwivedi @shikhaarif.sharma @Vbfilmwala #MahaveerJain #AashishSingh @zeestudiosofficial @zeemusiccompany @dot9games @vishygo @ncore_games_official\n",
      "likes : 273970\n",
      "comments : 1513\n",
      "timestamp : 1665741465\n",
      "------------------------------------------------------------------------------\n",
      "caption : Delighted with such love you’ve shown towards our #RamSetu trailer! Thank you from the core of my heart 🙏. Immensely proud that an Indian epic adventure is Prime Video’s first movie co-production in the country. \n",
      "Catch us in theatres. 25th October. \n",
      "@abundantiaent @primevideoin\n",
      "likes : 823912\n",
      "comments : 3864\n",
      "timestamp : 1665641602\n",
      "------------------------------------------------------------------------------\n",
      "views : 2734228\n",
      "caption : You loved the first glimpse of #RamSetu…\n",
      "Hope you show even more love to the trailer. \n",
      "\n",
      "और इस दिवाली, आइये अपने पूरे परिवार के साथ राम सेतु की दुनिया का हिस्सा बनने|\n",
      "\n",
      "#RamSetu. 25th October. Only in Theatres worldwide.\n",
      "\n",
      "@jacquelinef143 @nushrrattbharuccha @actorsatyadev #AbhishekSharma @ivikramix @primevideoin #CapeOfGoodFilms @lyca_productions @abundantiaent #DrChandraprakashDwivedi @shikhaarif.sharma @Vbfilmwala #MahaveerJain #AashishSingh @zeestudiosofficial @zeemusiccompany\n",
      "likes : 691112\n",
      "comments : 5539\n",
      "timestamp : 1665470896\n",
      "------------------------------------------------------------------------------\n",
      "caption : The action is getting closer…\n",
      "Only 8 days to go!\n",
      "#RamSetu. 25th October. Only in Theatres.\n",
      "\n",
      "@jacquelinef143 @nushrrattbharuccha @actorsatyadev #AbhishekSharma @ivikramix @primevideoin #CapeOfGoodFilms @lyca_productions @abundantiaent #DrChandraprakashDwivedi @shikhaarif.sharma @Vbfilmwala #MahaveerJain #AashishSingh @zeestudiosofficial @zeemusiccompany\n",
      "likes : 188970\n",
      "comments : 944\n",
      "timestamp : 1666007967\n",
      "------------------------------------------------------------------------------\n",
      "caption : Bas 9 dinon mein hum aapke liye lekar aa rahein hain iss saal ki sabse badi adventure film!\n",
      "#RamSetu. 25th October. Only in Theatres.\n",
      "\n",
      "@jacquelinef143 @nushrrattbharuccha @actorsatyadev #AbhishekSharma @ivikramix @primevideoin #CapeOfGoodFilms @lyca_productions @abundantiaent #DrChandraprakashDwivedi @shikhaarif.sharma @Vbfilmwala #MahaveerJain #AashishSingh @zeestudiosofficial @zeemusiccompany\n",
      "likes : 281714\n",
      "comments : 1295\n",
      "timestamp : 1665909016\n",
      "------------------------------------------------------------------------------\n",
      "views : 987165\n",
      "caption : The journey begins in 10 days.\n",
      "Are you ready for an epic adventure?\n",
      "\n",
      "#RamSetu. 25th October. Only in Theatres.\n",
      "\n",
      "@jacquelinef143 @nushrrattbharuccha @actorsatyadev #AbhishekSharma @ivikramix @primevideoin #CapeOfGoodFilms @lyca_productions @abundantiaent #DrChandraprakashDwivedi @shikhaarif.Sharma @Vbfilmwala #MahaveerJain #AashishSingh @zeestudiosofficial @zeemusiccompany\n",
      "likes : 313915\n",
      "comments : 1523\n",
      "timestamp : 1665826174\n",
      "------------------------------------------------------------------------------\n",
      "views : 732800\n",
      "caption : Kya din khatam hone se pehle, energy khatam ho rahi hai?  Shayad aap apni body ki nahi sun rahe ho. #ApniBodyKiSuno, apnao @MyRevitalH aur meri tarah #RahoCharged, din bhar!\n",
      "likes : 173372\n",
      "comments : 890\n",
      "timestamp : 1665718209\n",
      "------------------------------------------------------------------------------\n",
      "views : 841462\n",
      "caption : Here’s your chance to enter the world of Ram Setu!\n",
      "Super proud and excited to bring to you the official game of #RamSetu\n",
      "#RamSetuTheRun launches tomorrow.\n",
      "Stay tuned!\n",
      "\n",
      "@jacquelinef143 @nushrrattbharuccha @actorsatyadev #AbhishekSharma @ivikramix @primevideoin #CapeOfGoodFilms @lyca_productions @abundantiaent #DrChandraprakashDwivedi @shikhaarif.sharma @Vbfilmwala #MahaveerJain #AashishSingh @zeestudiosofficial @zeemusiccompany @dot9games @vishygo @ncore_games_official\n",
      "likes : 245345\n",
      "comments : 1289\n",
      "timestamp : 1665670665\n",
      "------------------------------------------------------------------------------\n",
      "caption : Sending my best wishes to the man who’s the one single reason behind an entire generation wanting to be a hero in films. My inspiration,  Bachchan Saab ! Wish you a very happy 80th birthday @amitabhbachchan sir.\n",
      "likes : 1034283\n",
      "comments : 3716\n",
      "timestamp : 1665466748\n",
      "------------------------------------------------------------------------------\n",
      "views : 2914501\n",
      "caption : Taiyaar ho jayye action, adventure aur khoob sare entertainment ke liye. \n",
      "#RamSetuTrailer out tomorrow at 12 PM.\n",
      "\n",
      "@jacquelinef143 @nushrrattbharuccha @actorsatyadev #AbhishekSharma @ivikramix @primevideoin #CapeOfGoodFilms @lyca_productions @abundantiaent #DrChandraprakashDwivedi @shikhaarif.sharma @Vbfilmwala #MahaveerJain #AashishSingh @zeestudiosofficial @zeemusiccompany\n",
      "likes : 566212\n",
      "comments : 2325\n",
      "timestamp : 1665390737\n",
      "------------------------------------------------------------------------------\n",
      "views : 2313090\n",
      "caption : Load up electrifying energy with this never seen before, intereSTING offer!! \n",
      "To know more, watch my latest TVC for @sting_india \n",
      " #Ad #2XCashback\n",
      "#StingEnergy\n",
      "likes : 370273\n",
      "comments : 2521\n",
      "timestamp : 1665329426\n",
      "------------------------------------------------------------------------------\n",
      "views : 1123495\n",
      "caption : Take a step closer into our journey…\n",
      "2 days to go!\n",
      "\n",
      "#RamSetuTrailer out on Tuesday, 11th October\n",
      "\n",
      "@jacquelinef143 @nushrrattbharuccha @actorsatyadev #AbhishekSharma @ivikramix @primevideoin #CapeOfGoodFilms @lyca_productions @abundantiaent #DrChandraprakashDwivedi @shikhaarif.sharma @Vbfilmwala #MahaveerJain #AashishSingh @zeestudiosofficial @zeemusiccompany\n",
      "likes : 288789\n",
      "comments : 1449\n",
      "timestamp : 1665307807\n",
      "------------------------------------------------------------------------------\n"
     ]
    }
   ],
   "source": [
    "posts = user.user_data[\"edge_owner_to_timeline_media\"]\n",
    "print (posts['count'])\n",
    "post_list = posts['edges']\n",
    "\n",
    "for i in post_list:\n",
    "    if \"video_view_count\" in i['node'].keys():\n",
    "        print (\"views :\", i['node'][\"video_view_count\"])\n",
    "    print (\"caption :\", i['node'][\"edge_media_to_caption\"]['edges'][0]['node']['text'])\n",
    "    print (\"likes :\", i['node'][\"edge_liked_by\"]['count'])\n",
    "    print (\"comments :\", i['node'][\"edge_media_to_comment\"]['count'])\n",
    "    print (\"timestamp :\", i['node'][\"taken_at_timestamp\"])\n",
    "    print (\"------------------------------------------------------------------------------\")"
   ]
  }
 ],
 "metadata": {
  "kernelspec": {
   "display_name": "Python 3.10.4 64-bit",
   "language": "python",
   "name": "python3"
  },
  "language_info": {
   "codemirror_mode": {
    "name": "ipython",
    "version": 3
   },
   "file_extension": ".py",
   "mimetype": "text/x-python",
   "name": "python",
   "nbconvert_exporter": "python",
   "pygments_lexer": "ipython3",
   "version": "3.10.4"
  },
  "orig_nbformat": 4,
  "vscode": {
   "interpreter": {
    "hash": "26de051ba29f2982a8de78e945f0abaf191376122a1563185a90213a26c5da77"
   }
  }
 },
 "nbformat": 4,
 "nbformat_minor": 2
}
